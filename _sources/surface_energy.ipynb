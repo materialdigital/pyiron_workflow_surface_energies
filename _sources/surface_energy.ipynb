{
 "cells": [
  {
   "cell_type": "code",
   "execution_count": 17,
   "id": "456d1533",
   "metadata": {},
   "outputs": [
    {
     "name": "stdout",
     "output_type": "stream",
     "text": [
      "The autoreload extension is already loaded. To reload it, use:\n",
      "  %reload_ext autoreload\n"
     ]
    }
   ],
   "source": [
    "import os\n",
    "from typing import Union, Optional, Tuple\n",
    "\n",
    "import numpy as np\n",
    "import pandas as pd\n",
    "\n",
    "# ASE imports\n",
    "from ase.build import bulk, stack\n",
    "from ase.lattice.cubic import BodyCenteredCubic as bcc\n",
    "\n",
    "# Pyiron workflow imports\n",
    "import pyiron_workflow as pwf\n",
    "from pyiron_workflow import Workflow\n",
    "from pyiron_workflow_atomistics.dataclass_storage import CalcInputMinimize\n",
    "from pyiron_workflow_atomistics.bulk import optimise_cubic_lattice_parameter\n",
    "from pyiron_workflow_atomistics.bulk_defect.vacancy import get_vacancy_formation_energy\n",
    "from pyiron_workflow_atomistics.calculator import calculate_structure_node\n",
    "from pyiron_workflow_atomistics.surface.builder import create_surface\n",
    "from pyiron_workflow_lammps.engine import LammpsEngine\n",
    "\n",
    "# Pymatgen imports\n",
    "from pymatgen.core import Structure\n",
    "from pymatgen.io.ase import AseAtomsAdaptor\n",
    "\n",
    "%load_ext autoreload\n",
    "%autoreload 2"
   ]
  },
  {
   "cell_type": "markdown",
   "id": "23d70cb7",
   "metadata": {},
   "source": [
    "# Example for LAMMPS engine"
   ]
  },
  {
   "cell_type": "code",
   "execution_count": 58,
   "id": "f27270b3",
   "metadata": {},
   "outputs": [
    {
     "name": "stderr",
     "output_type": "stream",
     "text": [
      "2025-09-26 01:20:24,567 - pyiron_log - WARNING - Directory 'test_opt_cubic_cell/strain_000' already exists. Existing files may be overwritten.\n"
     ]
    },
    {
     "name": "stdout",
     "output_type": "stream",
     "text": [
      "current mode  minimize\n"
     ]
    },
    {
     "name": "stderr",
     "output_type": "stream",
     "text": [
      "2025-09-26 01:20:26,196 - pyiron_log - WARNING - Directory 'test_opt_cubic_cell/strain_001' already exists. Existing files may be overwritten.\n",
      "2025-09-26 01:20:27,790 - pyiron_log - WARNING - Directory 'test_opt_cubic_cell/strain_002' already exists. Existing files may be overwritten.\n",
      "2025-09-26 01:20:29,398 - pyiron_log - WARNING - Directory 'test_opt_cubic_cell/strain_003' already exists. Existing files may be overwritten.\n",
      "2025-09-26 01:20:31,011 - pyiron_log - WARNING - Directory 'test_opt_cubic_cell/strain_004' already exists. Existing files may be overwritten.\n",
      "2025-09-26 01:20:32,631 - pyiron_log - WARNING - Directory 'test_opt_cubic_cell/strain_005' already exists. Existing files may be overwritten.\n",
      "2025-09-26 01:20:34,235 - pyiron_log - WARNING - Directory 'test_opt_cubic_cell/strain_006' already exists. Existing files may be overwritten.\n",
      "2025-09-26 01:20:35,844 - pyiron_log - WARNING - Directory 'test_opt_cubic_cell/strain_007' already exists. Existing files may be overwritten.\n",
      "2025-09-26 01:20:37,631 - pyiron_log - WARNING - Directory 'test_opt_cubic_cell/strain_008' already exists. Existing files may be overwritten.\n",
      "2025-09-26 01:20:39,360 - pyiron_log - WARNING - Directory 'test_opt_cubic_cell/strain_009' already exists. Existing files may be overwritten.\n",
      "2025-09-26 01:20:41,166 - pyiron_log - WARNING - Directory 'test_opt_cubic_cell' already exists. Existing files may be overwritten.\n",
      "2025-09-26 01:20:42,979 - pyiron_log - WARNING - Directory 'test_opt_cubic_cell' already exists. Existing files may be overwritten.\n"
     ]
    },
    {
     "data": {
      "text/plain": [
       "{'opt_cubic_cell__equil_struct': Atoms(symbols='Fe2', pbc=True, cell=[2.8553600861257875, 2.8553600861257875, 2.8553600861257875], initial_magmoms=...),\n",
       " 'opt_cubic_cell__B': np.float64(177.0390163507032),\n",
       " 'opt_cubic_cell__equil_energy_per_atom': np.float64(-4.012966860824359),\n",
       " 'opt_cubic_cell__equil_volume_per_atom': np.float64(11.639991349321107),\n",
       " 'opt_cubic_cell__volumes': [np.float64(21.787771257000003),\n",
       "  np.float64(22.08554991529631),\n",
       "  np.float64(22.386029495370348),\n",
       "  np.float64(22.689222191000006),\n",
       "  np.float64(22.99514019596296),\n",
       "  np.float64(23.303795704037036),\n",
       "  np.float64(23.615200909),\n",
       "  np.float64(23.92936800462963),\n",
       "  np.float64(24.24630918470369),\n",
       "  np.float64(24.56603664300001)],\n",
       " 'opt_cubic_cell__structures': [Atoms(symbols='Fe2', pbc=True, cell=[[2.7929999999999997, 1.7102192550092785e-16, 1.7102192550092785e-16], [0.0, 2.7929999999999997, 1.7102192550092785e-16], [0.0, 0.0, 2.7929999999999997]]),\n",
       "  Atoms(symbols='Fe2', pbc=True, cell=[[2.805666666666667, 1.717975351403879e-16, 1.717975351403879e-16], [0.0, 2.805666666666667, 1.717975351403879e-16], [0.0, 0.0, 2.805666666666667]]),\n",
       "  Atoms(symbols='Fe2', pbc=True, cell=[[2.8183333333333325, 1.7257314477984784e-16, 1.7257314477984784e-16], [0.0, 2.8183333333333325, 1.7257314477984784e-16], [0.0, 0.0, 2.8183333333333325]]),\n",
       "  Atoms(symbols='Fe2', pbc=True, cell=[[2.831, 1.7334875441930788e-16, 1.7334875441930788e-16], [0.0, 2.831, 1.7334875441930788e-16], [0.0, 0.0, 2.831]]),\n",
       "  Atoms(symbols='Fe2', pbc=True, cell=[[2.8436666666666666, 1.7412436405876786e-16, 1.7412436405876786e-16], [0.0, 2.8436666666666666, 1.7412436405876786e-16], [0.0, 0.0, 2.8436666666666666]]),\n",
       "  Atoms(symbols='Fe2', pbc=True, cell=[[2.856333333333333, 1.7489997369822782e-16, 1.7489997369822782e-16], [0.0, 2.856333333333333, 1.7489997369822777e-16], [0.0, 0.0, 2.856333333333333]]),\n",
       "  Atoms(symbols='Fe2', pbc=True, cell=[[2.869, 1.7567558333768783e-16, 1.7567558333768783e-16], [0.0, 2.869, 1.7567558333768788e-16], [0.0, 0.0, 2.869]]),\n",
       "  Atoms(symbols='Fe2', pbc=True, cell=[[2.881666666666667, 1.7645119297714781e-16, 1.7645119297714781e-16], [0.0, 2.881666666666667, 1.7645119297714781e-16], [0.0, 0.0, 2.881666666666667]]),\n",
       "  Atoms(symbols='Fe2', pbc=True, cell=[[2.894333333333333, 1.7722680261660777e-16, 1.7722680261660777e-16], [0.0, 2.894333333333333, 1.7722680261660777e-16], [0.0, 0.0, 2.894333333333333]]),\n",
       "  Atoms(symbols='Fe2', pbc=True, cell=[[2.907, 1.7800241225606778e-16, 1.7800241225606778e-16], [0.0, 2.907, 1.7800241225606778e-16], [0.0, 0.0, 2.907]])],\n",
       " 'opt_cubic_cell__energies': [np.float64(-7.96855857293824),\n",
       "  np.float64(-7.98971772945127),\n",
       "  np.float64(-8.00597688742178),\n",
       "  np.float64(-8.01739070205234),\n",
       "  np.float64(-8.02401477327668),\n",
       "  np.float64(-8.0259497613144),\n",
       "  np.float64(-8.0233186722281),\n",
       "  np.float64(-8.01624241057633),\n",
       "  np.float64(-8.00484538326023),\n",
       "  np.float64(-7.98933512183745)],\n",
       " 'surface_energy__unrelaxed_surface': Atoms(symbols='Fe38', pbc=True, cell=[[4.038088959257897, 0.0, 0.0], [2.019044479628949, 3.4970876214588036, 0.0], [0.0, 0.0, 50.498043915623654]], initial_magmoms=..., tags=...),\n",
       " 'surface_energy__relaxed_surface': Atoms(symbols='Fe38', pbc=True, cell=[[4.0380889592579, 1.62928594985735e-16, 2.4726163593137267e-16], [6.05713343888685, 3.4970876214587996, 4.94523271862745e-16], [0.0, 0.0, 50.49804391562365]]),\n",
       " 'surface_energy__relaxed_surface_calc_output': <pyiron_workflow_atomistics.dataclass_storage.EngineOutput at 0x79900cd0d5b0>,\n",
       " 'surface_energy__mu_bulk': np.float64(-3.967924581129081),\n",
       " 'surface_energy__surface_energy': np.float64(0.9932707739572464)}"
      ]
     },
     "execution_count": 58,
     "metadata": {},
     "output_type": "execute_result"
    }
   ],
   "source": [
    "inp = CalcInputMinimize()\n",
    "inp.relax_cell = False\n",
    "Engine = LammpsEngine(EngineInput = inp)\n",
    "\n",
    "Engine.working_directory = \"surface_energy\"\n",
    "Engine.lammps_log_filepath = \"minimize.log\"\n",
    "# Adjust this line to match your LAMMPS installation\n",
    "# If you are using conda-lammps or a LAMMPS binary on your system, you can use directly:\n",
    "Engine.command = \"lmp -in in.lmp -log minimize.log\"\n",
    "Engine.input_script_pair_style = \"eam/fs\"\n",
    "Engine.path_to_model = os.getcwd() + \"/Al-Fe.eam.fs\"\n",
    "\n",
    "from pyiron_workflow_atomistics.surface.surface_study import calculate_surface_energy\n",
    "\n",
    "wf = Workflow(\"surface_energy\", delete_existing_savefiles=True)\n",
    "# /root/github_dev/pyiron_workflow_atomistics/pyiron_workflow_atomistics\n",
    "structure = bulk(\"Fe\", a=2.85, cubic=True)\n",
    "wf.opt_cubic_cell = optimise_cubic_lattice_parameter(\n",
    "    structure=structure,\n",
    "    name=\"Fe\",\n",
    "    crystalstructure=\"bcc\",\n",
    "    calculation_engine=Engine,\n",
    "    parent_working_directory=\"opt_cubic_cell\",\n",
    "    rattle=0.1,\n",
    "    strain_range=(-0.02, 0.02),\n",
    "    num_points=10,\n",
    "    eos_type=\"birchmurnaghan\",\n",
    ")\n",
    "# Any eos_type supported by ase.eos.EquationOfState can be used,\n",
    "# e.g. sjeos, taylor, murnaghan, birch, birchmurnaghan, pouriertarantola, vinet, antonschmidt, p3\n",
    "wf.surface_energy = calculate_surface_energy(symbol = \"Fe\",\n",
    "                                            calculation_engine = Engine,\n",
    "                                            miller_indices = (1, 1, 1),\n",
    "                                            min_length = 50,\n",
    "                                            vacuum = 10.0,\n",
    "                                            crystalstructure = \"bcc\",\n",
    "                                            mu_bulk = None,\n",
    "                                            a = wf.opt_cubic_cell.outputs.a0,\n",
    "                                            cubic = True)\n",
    "wf.run()"
   ]
  },
  {
   "cell_type": "code",
   "execution_count": null,
   "id": "64efbc6e",
   "metadata": {},
   "outputs": [
    {
     "name": "stdout",
     "output_type": "stream",
     "text": [
      "EAM: 2.8553\n",
      "Surface energy: 0.062 eV/Å² or 0.99 J/m²\n",
      "n_atoms: 38\n"
     ]
    },
    {
     "data": {
      "text/html": [
       "<div style=\"color:orange; font-weight:bold;\">⚠️ The 111 surface energy is not correct for this potential, it is too low, DFT predicts 2.73 J/m², see <a href=\"http://crystalium.materialsvirtuallab.org/\" target=\"_blank\">crystalium.materialsvirtuallab.org</a></div>"
      ],
      "text/plain": [
       "<IPython.core.display.HTML object>"
      ]
     },
     "metadata": {},
     "output_type": "display_data"
    }
   ],
   "source": [
    "print(f\"EAM: {np.round(wf.opt_cubic_cell.outputs.a0.value, 4)} Å\")\n",
    "print(f\"Surface energy: {wf.surface_energy.surface_energy.value/16.021766208:.3f} eV/Å² or {wf.surface_energy.surface_energy.value:.2f} J/m²\")\n",
    "print(f\"n_atoms: {len(wf.surface_energy.outputs.relaxed_surface.value)}\")\n",
    "import warnings\n",
    "from IPython.display import display, HTML\n",
    "\n",
    "warnings.warn(\"The 111 surface energy is not correct for this potential, it is too low, dft predicts 2.73 J/m², see http://crystalium.materialsvirtuallab.org/\")\n",
    "display(HTML('<div style=\"color:orange; font-weight:bold;\">⚠️ The 111 surface energy is not correct for this potential, it is too low, DFT predicts 2.73 J/m², see <a href=\"http://crystalium.materialsvirtuallab.org/\" target=\"_blank\">crystalium.materialsvirtuallab.org</a></div>'))"
   ]
  },
  {
   "cell_type": "code",
   "execution_count": null,
   "id": "b26d8c9b",
   "metadata": {},
   "outputs": [],
   "source": []
  }
 ],
 "metadata": {
  "kernelspec": {
   "display_name": "pyiron_pypi_workflow_lammps",
   "language": "python",
   "name": "python3"
  },
  "language_info": {
   "codemirror_mode": {
    "name": "ipython",
    "version": 3
   },
   "file_extension": ".py",
   "mimetype": "text/x-python",
   "name": "python",
   "nbconvert_exporter": "python",
   "pygments_lexer": "ipython3",
   "version": "3.12.11"
  }
 },
 "nbformat": 4,
 "nbformat_minor": 5
}
